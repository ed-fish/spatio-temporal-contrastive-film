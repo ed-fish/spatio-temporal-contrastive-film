{
 "cells": [
  {
   "cell_type": "code",
   "execution_count": 5,
   "metadata": {
    "collapsed": true,
    "pycharm": {
     "name": "#%%\n"
    }
   },
   "outputs": [
    {
     "name": "stderr",
     "output_type": "stream",
     "text": [
      "/home/ed/.virtualenvs/cv/lib/python3.7/site-packages/ipykernel_launcher.py:14: ParserWarning: Falling back to the 'python' engine because the 'c' engine does not support regex separators (separators > 1 char and different from '\\s+' are interpreted as regex); you can avoid this warning by specifying engine='python'.\n",
      "  \n"
     ]
    },
    {
     "data": {
      "text/plain": "                Genre          Name  Scene  \\\n0      ScienceFiction           Air      1   \n1      ScienceFiction           Air     11   \n2      ScienceFiction           Air     12   \n3      ScienceFiction           Air     13   \n4      ScienceFiction           Air      7   \n...               ...           ...    ...   \n97496       Adventure  PadNaJouHart     79   \n97497       Adventure  PadNaJouHart     80   \n97498       Adventure  PadNaJouHart     81   \n97499       Adventure  PadNaJouHart     82   \n97500       Adventure  PadNaJouHart     83   \n\n                                                Filepath  \n0      /mnt/sda1/embeddings/ScienceFiction/Air/001/cl...  \n1      /mnt/sda1/embeddings/ScienceFiction/Air/011/cl...  \n2      /mnt/sda1/embeddings/ScienceFiction/Air/012/cl...  \n3      /mnt/sda1/embeddings/ScienceFiction/Air/013/cl...  \n4      /mnt/sda1/embeddings/ScienceFiction/Air/007/cl...  \n...                                                  ...  \n97496  /mnt/sda1/embeddings/Adventure/PadNaJouHart/07...  \n97497  /mnt/sda1/embeddings/Adventure/PadNaJouHart/08...  \n97498  /mnt/sda1/embeddings/Adventure/PadNaJouHart/08...  \n97499  /mnt/sda1/embeddings/Adventure/PadNaJouHart/08...  \n97500  /mnt/sda1/embeddings/Adventure/PadNaJouHart/08...  \n\n[97501 rows x 4 columns]",
      "text/html": "<div>\n<style scoped>\n    .dataframe tbody tr th:only-of-type {\n        vertical-align: middle;\n    }\n\n    .dataframe tbody tr th {\n        vertical-align: top;\n    }\n\n    .dataframe thead th {\n        text-align: right;\n    }\n</style>\n<table border=\"1\" class=\"dataframe\">\n  <thead>\n    <tr style=\"text-align: right;\">\n      <th></th>\n      <th>Genre</th>\n      <th>Name</th>\n      <th>Scene</th>\n      <th>Filepath</th>\n    </tr>\n  </thead>\n  <tbody>\n    <tr>\n      <th>0</th>\n      <td>ScienceFiction</td>\n      <td>Air</td>\n      <td>1</td>\n      <td>/mnt/sda1/embeddings/ScienceFiction/Air/001/cl...</td>\n    </tr>\n    <tr>\n      <th>1</th>\n      <td>ScienceFiction</td>\n      <td>Air</td>\n      <td>11</td>\n      <td>/mnt/sda1/embeddings/ScienceFiction/Air/011/cl...</td>\n    </tr>\n    <tr>\n      <th>2</th>\n      <td>ScienceFiction</td>\n      <td>Air</td>\n      <td>12</td>\n      <td>/mnt/sda1/embeddings/ScienceFiction/Air/012/cl...</td>\n    </tr>\n    <tr>\n      <th>3</th>\n      <td>ScienceFiction</td>\n      <td>Air</td>\n      <td>13</td>\n      <td>/mnt/sda1/embeddings/ScienceFiction/Air/013/cl...</td>\n    </tr>\n    <tr>\n      <th>4</th>\n      <td>ScienceFiction</td>\n      <td>Air</td>\n      <td>7</td>\n      <td>/mnt/sda1/embeddings/ScienceFiction/Air/007/cl...</td>\n    </tr>\n    <tr>\n      <th>...</th>\n      <td>...</td>\n      <td>...</td>\n      <td>...</td>\n      <td>...</td>\n    </tr>\n    <tr>\n      <th>97496</th>\n      <td>Adventure</td>\n      <td>PadNaJouHart</td>\n      <td>79</td>\n      <td>/mnt/sda1/embeddings/Adventure/PadNaJouHart/07...</td>\n    </tr>\n    <tr>\n      <th>97497</th>\n      <td>Adventure</td>\n      <td>PadNaJouHart</td>\n      <td>80</td>\n      <td>/mnt/sda1/embeddings/Adventure/PadNaJouHart/08...</td>\n    </tr>\n    <tr>\n      <th>97498</th>\n      <td>Adventure</td>\n      <td>PadNaJouHart</td>\n      <td>81</td>\n      <td>/mnt/sda1/embeddings/Adventure/PadNaJouHart/08...</td>\n    </tr>\n    <tr>\n      <th>97499</th>\n      <td>Adventure</td>\n      <td>PadNaJouHart</td>\n      <td>82</td>\n      <td>/mnt/sda1/embeddings/Adventure/PadNaJouHart/08...</td>\n    </tr>\n    <tr>\n      <th>97500</th>\n      <td>Adventure</td>\n      <td>PadNaJouHart</td>\n      <td>83</td>\n      <td>/mnt/sda1/embeddings/Adventure/PadNaJouHart/08...</td>\n    </tr>\n  </tbody>\n</table>\n<p>97501 rows × 4 columns</p>\n</div>"
     },
     "metadata": {},
     "output_type": "display_data"
    }
   ],
   "source": [
    "import pandas as pd\n",
    "from IPython.core.display import display\n",
    "import cv2\n",
    "import os\n",
    "import hashlib\n",
    "# Create a dataframe from a cached list of files\n",
    "def create_data_frame(cache_file, debug=False):\n",
    "    data_frame = pd.read_csv(cache_file, delimiter='/')\n",
    "    column = [0,1,2,3, -1, -2]\n",
    "    data_frame.drop(data_frame.columns[column], axis=1, inplace=True)\n",
    "    data_frame.columns = [\"Genre\", \"Name\", \"Scene\"]\n",
    "    data_frame[\"Filepath\"] = pd.read_csv(cache_file, delimiter='/n')\n",
    "    if debug:\n",
    "        display(data_frame)\n",
    "    return data_frame\n",
    "\n",
    "data_frame = create_data_frame('listoffiles.txt', debug=True)"
   ]
  },
  {
   "cell_type": "code",
   "execution_count": 6,
   "outputs": [],
   "source": [
    "import random\n",
    "import numpy as np\n",
    "\n",
    "class Chunk:\n",
    "    \"\"\"Convert an array of frames into a transposed\n",
    "       video \"chunk\" - Each chunk is a stacked np array of 16 frames.\n",
    "       Returns: 1 X 16 X 3 (BGR)\n",
    "       \"\"\"\n",
    "    def __init__(self, chunk_array, filepath):\n",
    "        self.chunk_array = chunk_array\n",
    "        self.width =chunk_array[0].shape[1]\n",
    "        self.height = chunk_array[0].shape[0]\n",
    "        self.filepath = filepath\n",
    "        self._init_params()\n",
    "\n",
    "    def _init_params(self):\n",
    "        random.seed(self.gen_hash(self.filepath))\n",
    "        self.crop_size = random.randint(int(int(self.height) / 2), int(self.height))\n",
    "        self.x = random.randrange(0,self.width - self.crop_size)\n",
    "        self.y = random.randrange(0, self.height - self.crop_size)\n",
    "        self.flip_val = random.randrange(-1, 2)\n",
    "        #self.noise = np.random.uniform(0, 255,(self.crop_size, self.crop_size))\n",
    "        self.random_gray = random.randrange(1, 6)\n",
    "        self.random_blur = random.randrange(1, 4)\n",
    "\n",
    "    def transform(self, image):\n",
    "        # Crop image\n",
    "        image = image[self.y:self.y + self.crop_size, self.x:self.x + self.crop_size]\n",
    "        # Flip image\n",
    "        image = cv2.flip(image, self.flip_val)\n",
    "        # Generate and add noise\n",
    "        #noise = self.generate_noise(image)\n",
    "        #image = cv2.add(image, noise)\n",
    "        # Gray scale and blurring\n",
    "        if self.random_gray == 3: image = cv2.cvtColor(cv2.cvtColor(image, cv2.COLOR_BGR2GRAY), cv2.COLOR_GRAY2BGR)\n",
    "        if self.random_blur == 3: image = cv2.GaussianBlur(image, (5,5), 0)\n",
    "        image = cv2.resize(image, (112, 112), interpolation = cv2.INTER_AREA)\n",
    "        return image\n",
    "\n",
    "    def generate_noise(self, image):\n",
    "        noise = np.random.randint(0,50,(self.crop_size, self.crop_size)) # design jitter/noise here\n",
    "        zitter = np.zeros_like(image)\n",
    "        zitter[:,:,1] = noise\n",
    "        return zitter\n",
    "\n",
    "    def chunk_maker(self):\n",
    "        #todo Convert to tensor\n",
    "        for i, im in enumerate(self.chunk_array):\n",
    "            trans_im = self.transform(im)\n",
    "            trans_im = cv2.cvtColor(trans_im, cv2.COLOR_BGR2RGB)\n",
    "            self.chunk_array[i] = trans_im\n",
    "        stacked_images = np.stack(self.chunk_array)\n",
    "        stacked_images = stacked_images.transpose(0,3,1,2)\n",
    "        return stacked_images\n",
    "\n",
    "    def gen_hash(self, tbh):\n",
    "        hash_object = hashlib.md5(tbh.encode())\n",
    "        return hash_object\n",
    "\n",
    "#%\n"
   ],
   "metadata": {
    "collapsed": false,
    "pycharm": {
     "name": "#%%\n"
    }
   }
  },
  {
   "cell_type": "code",
   "execution_count": null,
   "outputs": [],
   "source": [],
   "metadata": {
    "collapsed": false,
    "pycharm": {
     "name": "#%%\n"
    }
   }
  },
  {
   "cell_type": "code",
   "execution_count": null,
   "outputs": [],
   "source": [
    "from dataclasses import make_dataclass\n",
    "def split_frames(file_path,out_path, min_clip_len, n_frames, desc, debug=False):\n",
    "    count = 0\n",
    "    frame_list = []\n",
    "    clip_list = []\n",
    "    stack_list = []\n",
    "\n",
    "    vidcap = cv2.VideoCapture(file_path)\n",
    "    success, image = vidcap.read()\n",
    "    frame_list.append(image)\n",
    "\n",
    "    while success:\n",
    "        success,image = vidcap.read()\n",
    "        if success:\n",
    "            if count % 2:\n",
    "                frame_list.append(image)\n",
    "            if len(frame_list) == n_frames:\n",
    "                clip_list.append(frame_list)\n",
    "                if debug:\n",
    "                    print('added chunk of length', len(frame_list))\n",
    "                    print('added to clip_list', len(clip_list))\n",
    "                frame_list = []\n",
    "            count += 1\n",
    "\n",
    "    if len(clip_list) >= min_clip_len:\n",
    "        for i, clip in enumerate(clip_list):\n",
    "            chunk_pth = os.path.join(out_path, desc)\n",
    "            name_path = os.path.join(chunk_pth, str(i))\n",
    "            chunk_obj = Chunk(clip, name_path)\n",
    "            trans_images = chunk_obj.chunk_maker() #returns a list of stacked images\n",
    "            stack_list.append(trans_images)\n",
    "        return stack_list\n",
    "    else:\n",
    "        if debug:\n",
    "            print(len(clip_list))\n",
    "            print(\"not enough clips!\")\n",
    "        return 0"
   ],
   "metadata": {
    "collapsed": false,
    "pycharm": {
     "name": "#%%\n"
    }
   }
  },
  {
   "cell_type": "code",
   "execution_count": 10,
   "outputs": [],
   "source": [
    "import csv\n",
    "def create_trans_df():\n",
    "    data_list = []\n",
    "    for i in range(30000):\n",
    "        fp = data_frame.at[i, \"Filepath\"]\n",
    "        name = data_frame.at[i, \"Name\"]\n",
    "        scene = data_frame.at[i, \"Scene\"]\n",
    "        genre = data_frame.at[i, \"Genre\"]\n",
    "        try:\n",
    "            stack_of_chunks = split_frames(fp, \"./test/\", 3, 16, str(name + str(scene)))\n",
    "            if type(stack_of_chunks) == int and not stack_of_chunks: continue\n",
    "            else:\n",
    "                for i, stack in enumerate(stack_of_chunks):\n",
    "                    data_list.append([genre, name, scene, fp, stack, i])\n",
    "\n",
    "        except:\n",
    "            continue\n",
    "\n",
    "    transform_df = pd.DataFrame(data_list, columns=['genre', 'name', 'scene', 'filepath', 'data', 'chunk'])\n",
    "    return transform_df\n",
    "\n",
    "transform_df = create_trans_df()\n",
    "transform_df.to_pickle(\"./data60.pkl\")"
   ],
   "metadata": {
    "collapsed": false,
    "pycharm": {
     "name": "#%%\n"
    }
   }
  },
  {
   "cell_type": "code",
   "execution_count": 13,
   "outputs": [
    {
     "data": {
      "text/plain": "               genre      name  scene  \\\n0     ScienceFiction       Air      6   \n1     ScienceFiction       Air      6   \n2     ScienceFiction       Air      6   \n3     ScienceFiction       Air     30   \n4     ScienceFiction       Air     30   \n...              ...       ...    ...   \n6842         Mystery  Blackway     17   \n6843         Mystery  Blackway     17   \n6844         Mystery  Blackway      9   \n6845         Mystery  Blackway      9   \n6846         Mystery  Blackway      9   \n\n                                               filepath  \\\n0     /mnt/sda1/embeddings/ScienceFiction/Air/006/cl...   \n1     /mnt/sda1/embeddings/ScienceFiction/Air/006/cl...   \n2     /mnt/sda1/embeddings/ScienceFiction/Air/006/cl...   \n3     /mnt/sda1/embeddings/ScienceFiction/Air/030/cl...   \n4     /mnt/sda1/embeddings/ScienceFiction/Air/030/cl...   \n...                                                 ...   \n6842  /mnt/sda1/embeddings/Mystery/Blackway/017/clip...   \n6843  /mnt/sda1/embeddings/Mystery/Blackway/017/clip...   \n6844  /mnt/sda1/embeddings/Mystery/Blackway/009/clip...   \n6845  /mnt/sda1/embeddings/Mystery/Blackway/009/clip...   \n6846  /mnt/sda1/embeddings/Mystery/Blackway/009/clip...   \n\n                                                   data  chunk  \n0     [[[[249 249 249 249 249 249 249 249 249 249 24...      0  \n1     [[[[2 0 0 0 0 0 0 0 0 0 0 0 0 0 0 0 0 0 0 0 0 ...      1  \n2     [[[[ 0  0  0  0  0  0  0  0  0  0  0  0  0  0 ...      2  \n3     [[[[14 11  9  9  9  8  8  6  4  5  6  6  6  7 ...      0  \n4     [[[[ 7  8 10 12 11 11 11 12 12 12 11 11 10  8 ...      1  \n...                                                 ...    ...  \n6842  [[[[0 0 0 0 0 0 0 0 0 0 0 0 0 0 0 0 0 0 0 0 0 ...      1  \n6843  [[[[ 0  0  0  0  0  0  0  0  0  0  0  0  0  0 ...      2  \n6844  [[[[ 1  1  1  1  1  1  1  1  1  1  1  1  2  3 ...      0  \n6845  [[[[ 3  1  1 18 19 17 17 17 17  7  1  2  0  0 ...      1  \n6846  [[[[ 1  2  2  1  0  0  0  0  0  1  2  2  2  2 ...      2  \n\n[6847 rows x 6 columns]",
      "text/html": "<div>\n<style scoped>\n    .dataframe tbody tr th:only-of-type {\n        vertical-align: middle;\n    }\n\n    .dataframe tbody tr th {\n        vertical-align: top;\n    }\n\n    .dataframe thead th {\n        text-align: right;\n    }\n</style>\n<table border=\"1\" class=\"dataframe\">\n  <thead>\n    <tr style=\"text-align: right;\">\n      <th></th>\n      <th>genre</th>\n      <th>name</th>\n      <th>scene</th>\n      <th>filepath</th>\n      <th>data</th>\n      <th>chunk</th>\n    </tr>\n  </thead>\n  <tbody>\n    <tr>\n      <th>0</th>\n      <td>ScienceFiction</td>\n      <td>Air</td>\n      <td>6</td>\n      <td>/mnt/sda1/embeddings/ScienceFiction/Air/006/cl...</td>\n      <td>[[[[249 249 249 249 249 249 249 249 249 249 24...</td>\n      <td>0</td>\n    </tr>\n    <tr>\n      <th>1</th>\n      <td>ScienceFiction</td>\n      <td>Air</td>\n      <td>6</td>\n      <td>/mnt/sda1/embeddings/ScienceFiction/Air/006/cl...</td>\n      <td>[[[[2 0 0 0 0 0 0 0 0 0 0 0 0 0 0 0 0 0 0 0 0 ...</td>\n      <td>1</td>\n    </tr>\n    <tr>\n      <th>2</th>\n      <td>ScienceFiction</td>\n      <td>Air</td>\n      <td>6</td>\n      <td>/mnt/sda1/embeddings/ScienceFiction/Air/006/cl...</td>\n      <td>[[[[ 0  0  0  0  0  0  0  0  0  0  0  0  0  0 ...</td>\n      <td>2</td>\n    </tr>\n    <tr>\n      <th>3</th>\n      <td>ScienceFiction</td>\n      <td>Air</td>\n      <td>30</td>\n      <td>/mnt/sda1/embeddings/ScienceFiction/Air/030/cl...</td>\n      <td>[[[[14 11  9  9  9  8  8  6  4  5  6  6  6  7 ...</td>\n      <td>0</td>\n    </tr>\n    <tr>\n      <th>4</th>\n      <td>ScienceFiction</td>\n      <td>Air</td>\n      <td>30</td>\n      <td>/mnt/sda1/embeddings/ScienceFiction/Air/030/cl...</td>\n      <td>[[[[ 7  8 10 12 11 11 11 12 12 12 11 11 10  8 ...</td>\n      <td>1</td>\n    </tr>\n    <tr>\n      <th>...</th>\n      <td>...</td>\n      <td>...</td>\n      <td>...</td>\n      <td>...</td>\n      <td>...</td>\n      <td>...</td>\n    </tr>\n    <tr>\n      <th>6842</th>\n      <td>Mystery</td>\n      <td>Blackway</td>\n      <td>17</td>\n      <td>/mnt/sda1/embeddings/Mystery/Blackway/017/clip...</td>\n      <td>[[[[0 0 0 0 0 0 0 0 0 0 0 0 0 0 0 0 0 0 0 0 0 ...</td>\n      <td>1</td>\n    </tr>\n    <tr>\n      <th>6843</th>\n      <td>Mystery</td>\n      <td>Blackway</td>\n      <td>17</td>\n      <td>/mnt/sda1/embeddings/Mystery/Blackway/017/clip...</td>\n      <td>[[[[ 0  0  0  0  0  0  0  0  0  0  0  0  0  0 ...</td>\n      <td>2</td>\n    </tr>\n    <tr>\n      <th>6844</th>\n      <td>Mystery</td>\n      <td>Blackway</td>\n      <td>9</td>\n      <td>/mnt/sda1/embeddings/Mystery/Blackway/009/clip...</td>\n      <td>[[[[ 1  1  1  1  1  1  1  1  1  1  1  1  2  3 ...</td>\n      <td>0</td>\n    </tr>\n    <tr>\n      <th>6845</th>\n      <td>Mystery</td>\n      <td>Blackway</td>\n      <td>9</td>\n      <td>/mnt/sda1/embeddings/Mystery/Blackway/009/clip...</td>\n      <td>[[[[ 3  1  1 18 19 17 17 17 17  7  1  2  0  0 ...</td>\n      <td>1</td>\n    </tr>\n    <tr>\n      <th>6846</th>\n      <td>Mystery</td>\n      <td>Blackway</td>\n      <td>9</td>\n      <td>/mnt/sda1/embeddings/Mystery/Blackway/009/clip...</td>\n      <td>[[[[ 1  2  2  1  0  0  0  0  0  1  2  2  2  2 ...</td>\n      <td>2</td>\n    </tr>\n  </tbody>\n</table>\n<p>6847 rows × 6 columns</p>\n</div>"
     },
     "metadata": {},
     "output_type": "display_data"
    }
   ],
   "source": [
    "loaded_frame = pd.read_pickle('./data60.pkl')\n",
    "display(loaded_frame)\n"
   ],
   "metadata": {
    "collapsed": false,
    "pycharm": {
     "name": "#%%\n"
    }
   }
  }
 ],
 "metadata": {
  "kernelspec": {
   "display_name": "Python 3",
   "language": "python",
   "name": "python3"
  },
  "language_info": {
   "codemirror_mode": {
    "name": "ipython",
    "version": 2
   },
   "file_extension": ".py",
   "mimetype": "text/x-python",
   "name": "python",
   "nbconvert_exporter": "python",
   "pygments_lexer": "ipython2",
   "version": "2.7.6"
  }
 },
 "nbformat": 4,
 "nbformat_minor": 0
}