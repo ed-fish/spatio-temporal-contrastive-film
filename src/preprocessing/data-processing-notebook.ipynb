{
 "cells": [
  {
   "cell_type": "code",
   "execution_count": 1,
   "metadata": {
    "collapsed": true,
    "pycharm": {
     "name": "#%%\n"
    }
   },
   "outputs": [
    {
     "output_type": "error",
     "ename": "ModuleNotFoundError",
     "evalue": "No module named 'cv2'",
     "traceback": [
      "\u001b[0;31m---------------------------------------------------------------------------\u001b[0m",
      "\u001b[0;31mModuleNotFoundError\u001b[0m                       Traceback (most recent call last)",
      "\u001b[0;32m<ipython-input-1-dd55035e422f>\u001b[0m in \u001b[0;36m<module>\u001b[0;34m\u001b[0m\n\u001b[1;32m      1\u001b[0m \u001b[0;32mimport\u001b[0m \u001b[0mpandas\u001b[0m \u001b[0;32mas\u001b[0m \u001b[0mpd\u001b[0m\u001b[0;34m\u001b[0m\u001b[0;34m\u001b[0m\u001b[0m\n\u001b[1;32m      2\u001b[0m \u001b[0;32mfrom\u001b[0m \u001b[0mIPython\u001b[0m\u001b[0;34m.\u001b[0m\u001b[0mcore\u001b[0m\u001b[0;34m.\u001b[0m\u001b[0mdisplay\u001b[0m \u001b[0;32mimport\u001b[0m \u001b[0mdisplay\u001b[0m\u001b[0;34m\u001b[0m\u001b[0;34m\u001b[0m\u001b[0m\n\u001b[0;32m----> 3\u001b[0;31m \u001b[0;32mimport\u001b[0m \u001b[0mcv2\u001b[0m\u001b[0;34m\u001b[0m\u001b[0;34m\u001b[0m\u001b[0m\n\u001b[0m\u001b[1;32m      4\u001b[0m \u001b[0;32mimport\u001b[0m \u001b[0mos\u001b[0m\u001b[0;34m\u001b[0m\u001b[0;34m\u001b[0m\u001b[0m\n\u001b[1;32m      5\u001b[0m \u001b[0;32mimport\u001b[0m \u001b[0mhashlib\u001b[0m\u001b[0;34m\u001b[0m\u001b[0;34m\u001b[0m\u001b[0m\n",
      "\u001b[0;31mModuleNotFoundError\u001b[0m: No module named 'cv2'"
     ]
    }
   ],
   "source": [
    "import pandas as pd\n",
    "from IPython.core.display import display\n",
    "import cv2\n",
    "import os\n",
    "import hashlib\n",
    "# Create a dataframe from a cached list of files\n",
    "def create_data_frame(cache_file, debug=False):\n",
    "    data_frame = pd.read_csv(cache_file, delimiter='/')\n",
    "    column = [0,1,2,3, -1, -2]\n",
    "    data_frame.drop(data_frame.columns[column], axis=1, inplace=True)\n",
    "    data_frame.columns = [\"Genre\", \"Name\", \"Scene\"]\n",
    "    data_frame[\"Filepath\"] = pd.read_csv(cache_file, delimiter='/n')\n",
    "    if debug:\n",
    "        display(data_frame)\n",
    "    return data_frame\n",
    "\n",
    "data_frame = create_data_frame('/home/ed/PhD/Temporal-3DCNN-pytorch/data/input/original/cache-file-paths.txt', debug=True)"
   ]
  },
  {
   "cell_type": "code",
   "execution_count": 3,
   "outputs": [],
   "source": [
    "import random\n",
    "import numpy as np\n",
    "\n",
    "class Chunk:\n",
    "    \"\"\"Convert an array of frames into a transposed\n",
    "       video \"chunk\" - Each chunk is a stacked np array of 16 frames.\n",
    "       Returns: 1 X 16 X 3 (BGR)\n",
    "       \"\"\"\n",
    "    def __init__(self, chunk_array, filepath):\n",
    "        self.chunk_array = chunk_array\n",
    "        self.width =chunk_array[0].shape[1]\n",
    "        self.height = chunk_array[0].shape[0]\n",
    "        self.filepath = filepath\n",
    "        self._init_params()\n",
    "\n",
    "    def _init_params(self):\n",
    "        random.seed(self.gen_hash(self.filepath))\n",
    "        self.crop_size = random.randint(int(int(self.height) / 2), int(self.height))\n",
    "        self.x = random.randrange(0,self.width - self.crop_size)\n",
    "        self.y = random.randrange(0, self.height - self.crop_size)\n",
    "        self.flip_val = random.randrange(-1, 2)\n",
    "        #self.noise = np.random.uniform(0, 255,(self.crop_size, self.crop_size))\n",
    "        self.random_gray = random.randrange(1, 6)\n",
    "        self.random_blur = random.randrange(1, 4)\n",
    "\n",
    "    def transform(self, image):\n",
    "        # Crop image\n",
    "        image = image[self.y:self.y + self.crop_size, self.x:self.x + self.crop_size]\n",
    "        # Flip image\n",
    "        image = cv2.flip(image, self.flip_val)\n",
    "        # Generate and add noise\n",
    "        #noise = self.generate_noise(image)\n",
    "        #image = cv2.add(image, noise)\n",
    "        # Gray scale and blurring\n",
    "        if self.random_gray == 3: image = cv2.cvtColor(cv2.cvtColor(image, cv2.COLOR_BGR2GRAY), cv2.COLOR_GRAY2BGR)\n",
    "        if self.random_blur == 3: image = cv2.GaussianBlur(image, (5,5), 0)\n",
    "        image = cv2.resize(image, (112, 112), interpolation = cv2.INTER_AREA)\n",
    "        return image\n",
    "\n",
    "    def generate_noise(self, image):\n",
    "        noise = np.random.randint(0,50,(self.crop_size, self.crop_size)) # design jitter/noise here\n",
    "        zitter = np.zeros_like(image)\n",
    "        zitter[:,:,1] = noise\n",
    "        return zitter\n",
    "\n",
    "    def chunk_maker(self):\n",
    "        #todo Convert to tensor\n",
    "        for i, im in enumerate(self.chunk_array):\n",
    "            trans_im = self.transform(im)\n",
    "            trans_im = cv2.cvtColor(trans_im, cv2.COLOR_BGR2RGB)\n",
    "            self.chunk_array[i] = trans_im\n",
    "        stacked_images = np.stack(self.chunk_array)\n",
    "        stacked_images = stacked_images.transpose(0,3,1,2)\n",
    "        return stacked_images\n",
    "\n",
    "    def gen_hash(self, tbh):\n",
    "        hash_object = hashlib.md5(tbh.encode())\n",
    "        return hash_object\n",
    "\n",
    "#%"
   ],
   "metadata": {
    "collapsed": false,
    "pycharm": {
     "name": "#%%\n"
    }
   }
  },
  {
   "cell_type": "code",
   "execution_count": 4,
   "outputs": [],
   "source": [
    "from dataclasses import make_dataclass\n",
    "def split_frames(file_path,out_path, min_clip_len, n_frames, desc, debug=False):\n",
    "    count = 0\n",
    "    frame_list = []\n",
    "    clip_list = []\n",
    "    stack_list = []\n",
    "\n",
    "    vidcap = cv2.VideoCapture(file_path)\n",
    "    success, image = vidcap.read()\n",
    "    frame_list.append(image)\n",
    "\n",
    "    while success:\n",
    "        success,image = vidcap.read()\n",
    "        if success:\n",
    "            if count % 2:\n",
    "                frame_list.append(image)\n",
    "            if len(frame_list) == n_frames:\n",
    "                clip_list.append(frame_list)\n",
    "                if debug:\n",
    "                    print('added chunk of length', len(frame_list))\n",
    "                    print('added to clip_list', len(clip_list))\n",
    "                frame_list = []\n",
    "            count += 1\n",
    "\n",
    "    if len(clip_list) >= min_clip_len:\n",
    "        for i, clip in enumerate(clip_list):\n",
    "            chunk_pth = os.path.join(out_path, desc)\n",
    "            name_path = os.path.join(chunk_pth, str(i))\n",
    "            chunk_obj = Chunk(clip, name_path)\n",
    "            trans_images = chunk_obj.chunk_maker() #returns a list of stacked images\n",
    "            stack_list.append(trans_images)\n",
    "        return stack_list\n",
    "    else:\n",
    "        if debug:\n",
    "            print(len(clip_list))\n",
    "            print(\"not enough clips!\")\n",
    "        return 0"
   ],
   "metadata": {
    "collapsed": false,
    "pycharm": {
     "name": "#%%\n"
    }
   }
  },
  {
   "cell_type": "code",
   "execution_count": null,
   "outputs": [],
   "source": [
    "data_len = 5000\n",
    "def create_trans_df():\n",
    "    data_list = []\n",
    "    for i in range(data_len):\n",
    "        fp = data_frame.at[i, \"Filepath\"]\n",
    "        name = data_frame.at[i, \"Name\"]\n",
    "        scene = data_frame.at[i, \"Scene\"]\n",
    "        genre = data_frame.at[i, \"Genre\"]\n",
    "        list_of_stack_chunks = []\n",
    "        try:\n",
    "            stack_of_chunks = split_frames(fp, \"./test/\", 3, 16, str(name + str(scene)))\n",
    "            if type(stack_of_chunks) == int and not stack_of_chunks: continue\n",
    "            else:\n",
    "                data_list.append([genre, name, scene, fp, list_of_stack_chunks])\n",
    "        except:\n",
    "            continue\n",
    "\n",
    "    transform_df = pd.DataFrame(data_list, columns=['genre', 'name', 'scene', 'filepath', 'data'])\n",
    "    return transform_df\n",
    "\n",
    "transform_df = create_trans_df()\n",
    "transform_df.to_pickle(\"/home/ed/PhD/Temporal-3DCNN-pytorch/data/debug/data10k.pkl\")"
   ],
   "metadata": {
    "collapsed": false,
    "pycharm": {
     "name": "#%%\n"
    }
   }
  },
  {
   "cell_type": "code",
   "execution_count": 11,
   "outputs": [
    {
     "data": {
      "text/plain": "Empty DataFrame\nColumns: [genre, name, scene, filepath, data]\nIndex: []",
      "text/html": "<div>\n<style scoped>\n    .dataframe tbody tr th:only-of-type {\n        vertical-align: middle;\n    }\n\n    .dataframe tbody tr th {\n        vertical-align: top;\n    }\n\n    .dataframe thead th {\n        text-align: right;\n    }\n</style>\n<table border=\"1\" class=\"dataframe\">\n  <thead>\n    <tr style=\"text-align: right;\">\n      <th></th>\n      <th>genre</th>\n      <th>name</th>\n      <th>scene</th>\n      <th>filepath</th>\n      <th>data</th>\n    </tr>\n  </thead>\n  <tbody>\n  </tbody>\n</table>\n</div>"
     },
     "metadata": {},
     "output_type": "display_data"
    }
   ],
   "source": [
    "loaded_frame = pd.read_pickle('/home/ed/PhD/Temporal-3DCNN-pytorch/data/debug/data10k.pkl')\n",
    "display(loaded_frame)\n"
   ],
   "metadata": {
    "collapsed": false,
    "pycharm": {
     "name": "#%%\n"
    }
   }
  },
  {
   "cell_type": "code",
   "execution_count": null,
   "outputs": [],
   "source": [],
   "metadata": {
    "collapsed": false,
    "pycharm": {
     "name": "#%%\n"
    }
   }
  }
 ],
 "metadata": {
  "kernelspec": {
   "display_name": "Python 3",
   "language": "python",
   "name": "python3"
  },
  "language_info": {
   "codemirror_mode": {
    "name": "ipython",
    "version": 2
   },
   "file_extension": ".py",
   "mimetype": "text/x-python",
   "name": "python",
   "nbconvert_exporter": "python",
   "pygments_lexer": "ipython2",
   "version": "3.8.3-final"
  }
 },
 "nbformat": 4,
 "nbformat_minor": 0
}