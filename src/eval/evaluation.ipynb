{
 "metadata": {
  "language_info": {
   "codemirror_mode": {
    "name": "ipython",
    "version": 3
   },
   "file_extension": ".py",
   "mimetype": "text/x-python",
   "name": "python",
   "nbconvert_exporter": "python",
   "pygments_lexer": "ipython3",
   "version": 3
  },
  "orig_nbformat": 2
 },
 "nbformat": 4,
 "nbformat_minor": 2,
 "cells": [
  {
   "cell_type": "code",
   "execution_count": null,
   "metadata": {},
   "outputs": [],
   "source": [
    "model_path = \"/home/ed/PhD/Temporal-3DCNN-pytorch/logs/0.4/model.pt\"\n",
    "\n",
    "def find_k(outputs):\n",
    "    K = range(1, 100)\n",
    "    for k in K:\n",
    "        km = KMeans(n_clusters=k)\n",
    "        km = km.fit(outputs)\n",
    "        sum_sq_dis.append(km.inertia_)\n",
    "        plt.plot(K, Sum_of_squared_distances, \"bx-\")\n",
    "        plt.xlabel(\"k\")\n",
    "        plt.ylabel(\"Sum_of_squared_distances\")\n",
    "        plt.title(\"Elbow Method For Optimal k\")\n",
    "        plt.show()\n",
    "\n",
    "def eval():\n",
    " train_set, test_set = data_loading(df, sample_size, batch_size)\n",
    "    model = load_model(model_path)\n",
    "    model = model.eval()\n",
    "    outputs = []\n",
    "    file_paths = []\n",
    "\n",
    "    with torch.no_grad():\n",
    "        for i in test_set:\n",
    "            data = i[\"data\"][0].permute(0, 3, 2, 1, 4)\n",
    "            output = model(data.float())\n",
    "            vid = i[\"fp\"]\n",
    "            print(vid)\n",
    "            outputs.append(output.numpy().squeeze(0))\n",
    "            file_paths.append(vid)\n",
    "            print(len(file_paths))\n",
    "            print(len(outputs))\n",
    "    find_k(outputs, file_paths, k=20)\n"
   ]
  }
 ]
}